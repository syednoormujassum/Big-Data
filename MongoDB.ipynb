{
 "cells": [
  {
   "cell_type": "code",
   "execution_count": 1,
   "id": "b0e90f6a",
   "metadata": {},
   "outputs": [
    {
     "name": "stdout",
     "output_type": "stream",
     "text": [
      "Requirement already satisfied: pymongo in c:\\users\\administrator\\anaconda3\\lib\\site-packages (4.0.1)\n",
      "Note: you may need to restart the kernel to use updated packages.\n"
     ]
    },
    {
     "name": "stderr",
     "output_type": "stream",
     "text": [
      "WARNING: You are using pip version 20.2; however, version 22.0.2 is available.\n",
      "You should consider upgrading via the 'C:\\Users\\Administrator\\anaconda3\\python.exe -m pip install --upgrade pip' command.\n"
     ]
    }
   ],
   "source": [
    "pip install pymongo"
   ]
  },
  {
   "cell_type": "code",
   "execution_count": 2,
   "id": "4b81a26b",
   "metadata": {},
   "outputs": [],
   "source": [
    "import pymongo"
   ]
  },
  {
   "cell_type": "code",
   "execution_count": 3,
   "id": "022b5bfb",
   "metadata": {},
   "outputs": [],
   "source": [
    "client = pymongo.MongoClient('mongodb://127.0.0.1:27017/')"
   ]
  },
  {
   "cell_type": "code",
   "execution_count": 4,
   "id": "1086c886",
   "metadata": {},
   "outputs": [],
   "source": [
    "mydb = client['Employee']"
   ]
  },
  {
   "cell_type": "code",
   "execution_count": 5,
   "id": "a6dd2ac9",
   "metadata": {},
   "outputs": [],
   "source": [
    "information = mydb.employeeinformation"
   ]
  },
  {
   "cell_type": "code",
   "execution_count": 7,
   "id": "ad571985",
   "metadata": {},
   "outputs": [],
   "source": [
    "record = {\n",
    "    'firstname':'Syed Noor',\n",
    "    'lastname':'Mujassum',\n",
    "    'department':'Analytics'\n",
    "}"
   ]
  },
  {
   "cell_type": "code",
   "execution_count": 8,
   "id": "d3c5d7fe",
   "metadata": {},
   "outputs": [
    {
     "data": {
      "text/plain": [
       "<pymongo.results.InsertOneResult at 0x2acbb264fc0>"
      ]
     },
     "execution_count": 8,
     "metadata": {},
     "output_type": "execute_result"
    }
   ],
   "source": [
    "information.insert_one(record)"
   ]
  },
  {
   "cell_type": "code",
   "execution_count": 10,
   "id": "0c110a2d",
   "metadata": {},
   "outputs": [],
   "source": [
    "records = [{\n",
    "     'firstname':'Sunil',\n",
    "    'lastname':'Kailas',\n",
    "    'department':'Logistics'\n",
    "},{\n",
    "    'firstname':'Niranjan',\n",
    "    'lastname':'Bhimavarapu',\n",
    "    'department':'Devops',\n",
    "    'age':28\n",
    "},{\n",
    "    'firstname':'Amira',\n",
    "    'lastname':'Muzaffar',\n",
    "    'department':'HR'\n",
    "},{\n",
    "    'firstname':'Shreya',\n",
    "    'lastname':'Bharghav',\n",
    "    'department':'Marketing',\n",
    "    'age':27\n",
    "}\n",
    "    \n",
    "]"
   ]
  },
  {
   "cell_type": "code",
   "execution_count": 11,
   "id": "c65ba2a6",
   "metadata": {},
   "outputs": [
    {
     "data": {
      "text/plain": [
       "<pymongo.results.InsertManyResult at 0x2acbb3a9a40>"
      ]
     },
     "execution_count": 11,
     "metadata": {},
     "output_type": "execute_result"
    }
   ],
   "source": [
    "information.insert_many(records)"
   ]
  },
  {
   "cell_type": "code",
   "execution_count": 19,
   "id": "5922fa97",
   "metadata": {
    "scrolled": true
   },
   "outputs": [
    {
     "data": {
      "text/plain": [
       "{'_id': ObjectId('61ff24f6c5ac0b585299ef0c'),\n",
       " 'firstname': 'Syed Noor',\n",
       " 'lastname': 'Mujassum',\n",
       " 'department': 'Analytics'}"
      ]
     },
     "execution_count": 19,
     "metadata": {},
     "output_type": "execute_result"
    }
   ],
   "source": [
    "information.find_one()"
   ]
  },
  {
   "cell_type": "code",
   "execution_count": 16,
   "id": "994106e7",
   "metadata": {},
   "outputs": [
    {
     "name": "stdout",
     "output_type": "stream",
     "text": [
      "{'_id': ObjectId('61ff24f6c5ac0b585299ef0c'), 'firstname': 'Syed Noor', 'lastname': 'Mujassum', 'department': 'Analytics'}\n",
      "{'_id': ObjectId('61ff2671c5ac0b585299ef0d'), 'firstname': 'Sunil', 'lastname': 'Kailas', 'department': 'Logistics'}\n",
      "{'_id': ObjectId('61ff2671c5ac0b585299ef0e'), 'firstname': 'Niranjan', 'lastname': 'Bhimavarapu', 'department': 'Devops', 'age': 28}\n",
      "{'_id': ObjectId('61ff2671c5ac0b585299ef0f'), 'firstname': 'Amira', 'lastname': 'Muzaffar', 'department': 'HR'}\n",
      "{'_id': ObjectId('61ff2671c5ac0b585299ef10'), 'firstname': 'Shreya', 'lastname': 'Bharghav', 'department': 'Marketing', 'age': 27}\n"
     ]
    }
   ],
   "source": [
    "for records in information.find({}):\n",
    "    print(records)\n",
    "    "
   ]
  },
  {
   "cell_type": "code",
   "execution_count": 20,
   "id": "bba5ae89",
   "metadata": {},
   "outputs": [],
   "source": [
    "mydb2 = client['Inventory']"
   ]
  },
  {
   "cell_type": "code",
   "execution_count": 21,
   "id": "7ba6a6ae",
   "metadata": {},
   "outputs": [],
   "source": [
    "info = mydb2.inventory_info"
   ]
  },
  {
   "cell_type": "code",
   "execution_count": 22,
   "id": "f3f558df",
   "metadata": {},
   "outputs": [
    {
     "data": {
      "text/plain": [
       "{'_id': ObjectId('61ff5714f31dcd68a16827f4'),\n",
       " 'item': 'books',\n",
       " 'qty': 500,\n",
       " 'rack': 2}"
      ]
     },
     "execution_count": 22,
     "metadata": {},
     "output_type": "execute_result"
    }
   ],
   "source": [
    "info.find_one()"
   ]
  },
  {
   "cell_type": "code",
   "execution_count": 27,
   "id": "1cfe9912",
   "metadata": {},
   "outputs": [
    {
     "name": "stdout",
     "output_type": "stream",
     "text": [
      "{'_id': ObjectId('61ff5714f31dcd68a16827f4'), 'item': 'books', 'qty': 500, 'rack': 2, 'lastModified': datetime.datetime(2022, 2, 6, 5, 28, 14, 181000), 'size': {'h': 15, 'w': 13}}\n",
      "{'_id': ObjectId('61ff5714f31dcd68a16827f5'), 'item': 'pens', 'qty': 670, 'rack': 1}\n",
      "{'_id': ObjectId('61ff5714f31dcd68a16827f6'), 'item': 'white-sheets', 'qty': 5000, 'rack': 3}\n"
     ]
    }
   ],
   "source": [
    "for records in info.find():\n",
    "    print (records)"
   ]
  },
  {
   "cell_type": "code",
   "execution_count": 26,
   "id": "061e8302",
   "metadata": {},
   "outputs": [
    {
     "data": {
      "text/plain": [
       "<pymongo.results.UpdateResult at 0x2acbb5c64c0>"
      ]
     },
     "execution_count": 26,
     "metadata": {},
     "output_type": "execute_result"
    }
   ],
   "source": [
    "information.update_one(\n",
    "    {'item':'books'},\n",
    "    {'$set':{\"size\":{'h':25,'w':13}},\n",
    "     '$currentDate':{'lastModified':True}})"
   ]
  },
  {
   "cell_type": "code",
   "execution_count": null,
   "id": "47a123da",
   "metadata": {},
   "outputs": [],
   "source": []
  }
 ],
 "metadata": {
  "kernelspec": {
   "display_name": "Python 3",
   "language": "python",
   "name": "python3"
  },
  "language_info": {
   "codemirror_mode": {
    "name": "ipython",
    "version": 3
   },
   "file_extension": ".py",
   "mimetype": "text/x-python",
   "name": "python",
   "nbconvert_exporter": "python",
   "pygments_lexer": "ipython3",
   "version": "3.8.8"
  }
 },
 "nbformat": 4,
 "nbformat_minor": 5
}
