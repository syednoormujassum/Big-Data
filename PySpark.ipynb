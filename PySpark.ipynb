{
 "cells": [
  {
   "cell_type": "markdown",
   "id": "6d7ae9a3",
   "metadata": {},
   "source": [
    "# Dealing with Json files and arrays in spark"
   ]
  },
  {
   "cell_type": "code",
   "execution_count": 1,
   "id": "1d3b9726",
   "metadata": {},
   "outputs": [
    {
     "name": "stdout",
     "output_type": "stream",
     "text": [
      "Requirement already satisfied: pyspark in c:\\users\\administrator\\anaconda3\\lib\\site-packages (3.2.1)\n",
      "Requirement already satisfied: py4j==0.10.9.3 in c:\\users\\administrator\\anaconda3\\lib\\site-packages (from pyspark) (0.10.9.3)\n",
      "Note: you may need to restart the kernel to use updated packages.\n"
     ]
    },
    {
     "name": "stderr",
     "output_type": "stream",
     "text": [
      "WARNING: You are using pip version 20.2; however, version 22.0.2 is available.\n",
      "You should consider upgrading via the 'C:\\Users\\Administrator\\anaconda3\\python.exe -m pip install --upgrade pip' command.\n"
     ]
    }
   ],
   "source": [
    "pip install pyspark\n"
   ]
  },
  {
   "cell_type": "code",
   "execution_count": 2,
   "id": "12c7eed5",
   "metadata": {},
   "outputs": [],
   "source": [
    "from pyspark.sql import SparkSession\n",
    "from pyspark.sql.functions import explode"
   ]
  },
  {
   "cell_type": "code",
   "execution_count": 3,
   "id": "0ff34fbe",
   "metadata": {},
   "outputs": [],
   "source": [
    "spark = SparkSession.builder.appName('oop').getOrCreate()"
   ]
  },
  {
   "cell_type": "code",
   "execution_count": 6,
   "id": "c1b7f0a0",
   "metadata": {},
   "outputs": [],
   "source": [
    "df = spark.read.json('C:/Users/Administrator/test/ML/Machine-Learning/jsontest.json')\n"
   ]
  },
  {
   "cell_type": "code",
   "execution_count": 7,
   "id": "253853d7",
   "metadata": {},
   "outputs": [
    {
     "name": "stdout",
     "output_type": "stream",
     "text": [
      "Row(results=[Row(acked=False, corrected=False, date='2019-03-10', desc='Frozen Alert on Input6', hostIp='1.11.1.13', hostIpDeviceLabel='Map Data', id='400', instance=3, instanceDesc='PQR 826__302', myHashCode=-6754, notes='', oid='1.3.6', productDeviceLabel='PNX-AD  [7]', prouct='3V', selfCorrected=False, severity=2, slot=0, time='14:20:28', trapID=110, varbinds=['ABC 826', '2ndValue', '', '4th Value', '', '', '', '', '', '', '', '', '', '', '', ''])])\n"
     ]
    }
   ],
   "source": [
    "for elements in df.collect():\n",
    "    print(elements)"
   ]
  },
  {
   "cell_type": "code",
   "execution_count": 8,
   "id": "a71718c9",
   "metadata": {},
   "outputs": [
    {
     "name": "stdout",
     "output_type": "stream",
     "text": [
      "root\n",
      " |-- results: array (nullable = true)\n",
      " |    |-- element: struct (containsNull = true)\n",
      " |    |    |-- acked: boolean (nullable = true)\n",
      " |    |    |-- corrected: boolean (nullable = true)\n",
      " |    |    |-- date: string (nullable = true)\n",
      " |    |    |-- desc: string (nullable = true)\n",
      " |    |    |-- hostIp: string (nullable = true)\n",
      " |    |    |-- hostIpDeviceLabel: string (nullable = true)\n",
      " |    |    |-- id: string (nullable = true)\n",
      " |    |    |-- instance: long (nullable = true)\n",
      " |    |    |-- instanceDesc: string (nullable = true)\n",
      " |    |    |-- myHashCode: long (nullable = true)\n",
      " |    |    |-- notes: string (nullable = true)\n",
      " |    |    |-- oid: string (nullable = true)\n",
      " |    |    |-- productDeviceLabel: string (nullable = true)\n",
      " |    |    |-- prouct: string (nullable = true)\n",
      " |    |    |-- selfCorrected: boolean (nullable = true)\n",
      " |    |    |-- severity: long (nullable = true)\n",
      " |    |    |-- slot: long (nullable = true)\n",
      " |    |    |-- time: string (nullable = true)\n",
      " |    |    |-- trapID: long (nullable = true)\n",
      " |    |    |-- varbinds: array (nullable = true)\n",
      " |    |    |    |-- element: string (containsNull = true)\n",
      "\n"
     ]
    }
   ],
   "source": [
    "df.printSchema()"
   ]
  },
  {
   "cell_type": "code",
   "execution_count": 16,
   "id": "cc58ef3b",
   "metadata": {},
   "outputs": [
    {
     "name": "stdout",
     "output_type": "stream",
     "text": [
      "+--------------------+\n",
      "|             results|\n",
      "+--------------------+\n",
      "|[{false, false, 2...|\n",
      "+--------------------+\n",
      "\n"
     ]
    }
   ],
   "source": [
    "df.show()"
   ]
  },
  {
   "cell_type": "code",
   "execution_count": 9,
   "id": "beae52d6",
   "metadata": {},
   "outputs": [
    {
     "name": "stdout",
     "output_type": "stream",
     "text": [
      "root\n",
      " |-- col: struct (nullable = true)\n",
      " |    |-- acked: boolean (nullable = true)\n",
      " |    |-- corrected: boolean (nullable = true)\n",
      " |    |-- date: string (nullable = true)\n",
      " |    |-- desc: string (nullable = true)\n",
      " |    |-- hostIp: string (nullable = true)\n",
      " |    |-- hostIpDeviceLabel: string (nullable = true)\n",
      " |    |-- id: string (nullable = true)\n",
      " |    |-- instance: long (nullable = true)\n",
      " |    |-- instanceDesc: string (nullable = true)\n",
      " |    |-- myHashCode: long (nullable = true)\n",
      " |    |-- notes: string (nullable = true)\n",
      " |    |-- oid: string (nullable = true)\n",
      " |    |-- productDeviceLabel: string (nullable = true)\n",
      " |    |-- prouct: string (nullable = true)\n",
      " |    |-- selfCorrected: boolean (nullable = true)\n",
      " |    |-- severity: long (nullable = true)\n",
      " |    |-- slot: long (nullable = true)\n",
      " |    |-- time: string (nullable = true)\n",
      " |    |-- trapID: long (nullable = true)\n",
      " |    |-- varbinds: array (nullable = true)\n",
      " |    |    |-- element: string (containsNull = true)\n",
      "\n"
     ]
    }
   ],
   "source": [
    "DF = df.select(explode(df.results))\n",
    "DF.printSchema() "
   ]
  },
  {
   "cell_type": "code",
   "execution_count": 10,
   "id": "7896b67b",
   "metadata": {},
   "outputs": [
    {
     "name": "stdout",
     "output_type": "stream",
     "text": [
      "root\n",
      " |-- data: struct (nullable = true)\n",
      " |    |-- acked: boolean (nullable = true)\n",
      " |    |-- corrected: boolean (nullable = true)\n",
      " |    |-- date: string (nullable = true)\n",
      " |    |-- desc: string (nullable = true)\n",
      " |    |-- hostIp: string (nullable = true)\n",
      " |    |-- hostIpDeviceLabel: string (nullable = true)\n",
      " |    |-- id: string (nullable = true)\n",
      " |    |-- instance: long (nullable = true)\n",
      " |    |-- instanceDesc: string (nullable = true)\n",
      " |    |-- myHashCode: long (nullable = true)\n",
      " |    |-- notes: string (nullable = true)\n",
      " |    |-- oid: string (nullable = true)\n",
      " |    |-- productDeviceLabel: string (nullable = true)\n",
      " |    |-- prouct: string (nullable = true)\n",
      " |    |-- selfCorrected: boolean (nullable = true)\n",
      " |    |-- severity: long (nullable = true)\n",
      " |    |-- slot: long (nullable = true)\n",
      " |    |-- time: string (nullable = true)\n",
      " |    |-- trapID: long (nullable = true)\n",
      " |    |-- varbinds: array (nullable = true)\n",
      " |    |    |-- element: string (containsNull = true)\n",
      "\n"
     ]
    }
   ],
   "source": [
    "DF = DF.withColumnRenamed(\"col\",\"data\")\n",
    "DF.printSchema()"
   ]
  },
  {
   "cell_type": "code",
   "execution_count": 12,
   "id": "8d329b86",
   "metadata": {},
   "outputs": [
    {
     "name": "stdout",
     "output_type": "stream",
     "text": [
      "root\n",
      " |-- id: string (nullable = true)\n",
      " |-- varbinds: array (nullable = true)\n",
      " |    |-- element: string (containsNull = true)\n",
      "\n",
      "+---+--------------------+\n",
      "| id|            varbinds|\n",
      "+---+--------------------+\n",
      "|400|[ABC 826, 2ndValu...|\n",
      "+---+--------------------+\n",
      "\n"
     ]
    }
   ],
   "source": [
    "DF2 = DF.select(\"data.id\",\"data.varbinds\")\n",
    "DF2.printSchema()\n",
    "DF2.show()"
   ]
  },
  {
   "cell_type": "code",
   "execution_count": 13,
   "id": "fd825e6a",
   "metadata": {},
   "outputs": [
    {
     "name": "stdout",
     "output_type": "stream",
     "text": [
      "+---+---------+----+------+------+----------+--------+\n",
      "| id|   hostIP|slot|prouct|trapID|      date|    time|\n",
      "+---+---------+----+------+------+----------+--------+\n",
      "|400|1.11.1.13|   0|    3V|   110|2019-03-10|14:20:28|\n",
      "+---+---------+----+------+------+----------+--------+\n",
      "\n"
     ]
    }
   ],
   "source": [
    "DF1 = DF.select(\"data.id\",\"data.hostIP\",\"data.slot\",\"data.prouct\",\"data.trapID\",\"data.date\",\"data.time\")\n",
    "DF1.show()"
   ]
  },
  {
   "cell_type": "code",
   "execution_count": 15,
   "id": "3275ff93",
   "metadata": {},
   "outputs": [
    {
     "name": "stdout",
     "output_type": "stream",
     "text": [
      "+---+---------+----+------+------+----------+--------+--------------------+\n",
      "| id|   hostIP|slot|prouct|trapID|      date|    time|            varbinds|\n",
      "+---+---------+----+------+------+----------+--------+--------------------+\n",
      "|400|1.11.1.13|   0|    3V|   110|2019-03-10|14:20:28|[ABC 826, 2ndValu...|\n",
      "+---+---------+----+------+------+----------+--------+--------------------+\n",
      "\n"
     ]
    }
   ],
   "source": [
    "# Joining both data frames\n",
    "\n",
    "Final_DF = DF1.join(DF2,['id'])\n",
    "Final_DF.show()"
   ]
  },
  {
   "cell_type": "code",
   "execution_count": null,
   "id": "c72986f0",
   "metadata": {},
   "outputs": [],
   "source": []
  }
 ],
 "metadata": {
  "kernelspec": {
   "display_name": "Python 3",
   "language": "python",
   "name": "python3"
  },
  "language_info": {
   "codemirror_mode": {
    "name": "ipython",
    "version": 3
   },
   "file_extension": ".py",
   "mimetype": "text/x-python",
   "name": "python",
   "nbconvert_exporter": "python",
   "pygments_lexer": "ipython3",
   "version": "3.8.8"
  }
 },
 "nbformat": 4,
 "nbformat_minor": 5
}
